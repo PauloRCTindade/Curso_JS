{
 "cells": [
  {
   "cell_type": "markdown",
   "metadata": {},
   "source": [
    "# Minha documentação"
   ]
  },
  {
   "cell_type": "markdown",
   "metadata": {},
   "source": [
    "  <style>  \n",
    "        \n",
    "        h1{\n",
    "            color: crimson;\n",
    "            font: 30pt Arial;\n",
    "        }\n",
    "        h2{\n",
    "            color: darkorange;\n",
    "        }\n",
    "    </style>"
   ]
  },
  {
   "cell_type": "markdown",
   "metadata": {},
   "source": [
    "## style\n",
    "### realiza a configuração de stilo CSS"
   ]
  },
  {
   "cell_type": "code",
   "execution_count": null,
   "metadata": {},
   "outputs": [],
   "source": [
    "Exemplo:\n",
    "<style> \n",
    "    color: black;\n",
    "    font: 20pt Arial ;\n",
    "</style>"
   ]
  },
  {
   "cell_type": "markdown",
   "metadata": {},
   "source": [
    "## script\n",
    "### nessa região é possível programar o JS"
   ]
  },
  {
   "cell_type": "code",
   "execution_count": null,
   "metadata": {},
   "outputs": [],
   "source": [
    "exemplo:\n",
    "\n",
    "<script>\n",
    "        window.alert('Minha primeira mensagem')\n",
    "        window.confirm('Está gostando de Js?')\n",
    "        window.prompt('Qual é seu nome?')\n",
    "    </script>"
   ]
  }
 ],
 "metadata": {
  "language_info": {
   "codemirror_mode": {
    "name": "ipython",
    "version": 3
   },
   "file_extension": ".py",
   "mimetype": "text/x-python",
   "name": "python",
   "nbconvert_exporter": "python",
   "pygments_lexer": "ipython3",
   "version": "3.8.2-final"
  },
  "orig_nbformat": 2,
  "kernelspec": {
   "name": "python38264bitcursoaluraconda766abfa547ea45bb990f20ce4a885578",
   "display_name": "Python 3.8.2 64-bit ('curso_Alura': conda)"
  }
 },
 "nbformat": 4,
 "nbformat_minor": 2
}