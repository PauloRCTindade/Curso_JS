{
 "cells": [
  {
   "cell_type": "markdown",
   "metadata": {},
   "source": [
    "# Minha documentação"
   ]
  },
  {
   "cell_type": "markdown",
   "metadata": {},
   "source": [
    "  <style>  \n",
    "        \n",
    "        h1{\n",
    "            color: crimson;\n",
    "            font: 30pt Arial;\n",
    "        }\n",
    "        h2{\n",
    "            color: darkorange;\n",
    "        }\n",
    "    </style>"
   ]
  },
  {
   "cell_type": "markdown",
   "metadata": {},
   "source": [
    "## style\n",
    "### realiza a configuração de stilo CSS"
   ]
  },
  {
   "cell_type": "code",
   "execution_count": null,
   "metadata": {},
   "outputs": [],
   "source": [
    "Exemplo:\n",
    "<style> \n",
    "    color: black;\n",
    "    font: 20pt Arial ;\n",
    "</style>"
   ]
  },
  {
   "cell_type": "markdown",
   "metadata": {},
   "source": [
    "## script\n",
    "### nessa região é possível programar o JS"
   ]
  },
  {
   "cell_type": "code",
   "execution_count": null,
   "metadata": {},
   "outputs": [],
   "source": [
    "exemplo:\n",
    "\n",
    "<script>\n",
    "        window.alert('Minha primeira mensagem')\n",
    "        window.confirm('Está gostando de Js?')\n",
    "        window.prompt('Qual é seu nome?')\n",
    "    </script>"
   ]
  },
  {
   "cell_type": "markdown",
   "metadata": {},
   "source": [
    "## Number()\n",
    "### converte o dado para um número inteiro ou floot"
   ]
  },
  {
   "cell_type": "code",
   "execution_count": null,
   "metadata": {},
   "outputs": [],
   "source": [
    "exemplo:\n",
    "var num1 = Number(prompt('Digite um número'))"
   ]
  },
  {
   "cell_type": "markdown",
   "metadata": {},
   "source": [
    "## String() ou n.toString()\n",
    "### converte string em número"
   ]
  },
  {
   "cell_type": "markdown",
   "metadata": {},
   "source": [
    "## .toFixed(n)\n",
    "### determina o número(n) de casa decimal"
   ]
  },
  {
   "cell_type": "markdown",
   "metadata": {},
   "source": [
    "## .round('var')\n",
    "### arredonda"
   ]
  },
  {
   "cell_type": "markdown",
   "metadata": {},
   "source": [
    "## .replace('x','y')\n",
    "### faz a troca de x por Y"
   ]
  },
  {
   "cell_type": "markdown",
   "metadata": {},
   "source": [
    "## .toLocaleString\n",
    "### ('pt-BR',{style:'currency', currency:'BRL'})"
   ]
  },
  {
   "cell_type": "markdown",
   "metadata": {},
   "source": [
    "## Operadores Aritiméticos por ordem\n",
    "### ()  \n",
    "### **     ===> potência\n",
    "### * / %  ===> multiplicação, divisão e resto da divisão inteira\n",
    "### + -     ===> adição e subtração"
   ]
  },
  {
   "cell_type": "markdown",
   "metadata": {},
   "source": [
    "## Operadores Relacionais\n",
    "### >      maior\n",
    "### <      menor\n",
    "### >=     maior ou igual\n",
    "### <=     menor ou igual\n",
    "### !=     diferente\n",
    "### ==     igual\n",
    "### ===    idêntico"
   ]
  },
  {
   "cell_type": "code",
   "execution_count": null,
   "metadata": {},
   "outputs": [],
   "source": []
  },
  {
   "cell_type": "markdown",
   "metadata": {},
   "source": [
    "## Operadores lógicos\n",
    "### ! => negação  (não)\n",
    "### && => conjunção (e)\n",
    "### || => disjunção (ou)"
   ]
  },
  {
   "cell_type": "markdown",
   "metadata": {},
   "source": [
    "## Operadores Ternários\n",
    "###  ? :\n"
   ]
  },
  {
   "cell_type": "code",
   "execution_count": null,
   "metadata": {},
   "outputs": [],
   "source": [
    "exemplo:\n",
    "<script>\n",
    "var resultado = (num1 + num2 +num3)/3\n",
    "document.write(`A média entre ${num1} + ${num2} e ${num3} é = <strong>${resultado.toFixed(2)}<strong><br/>`)\n",
    "var cond = resultado >= 1? 'Teste Realizado' : 'Teste não realizado'\n",
    "document.write(cond)\n",
    "<script>"
   ]
  },
  {
   "cell_type": "code",
   "execution_count": null,
   "metadata": {},
   "outputs": [],
   "source": []
  }
 ],
 "metadata": {
  "language_info": {
   "codemirror_mode": {
    "name": "ipython",
    "version": 3
   },
   "file_extension": ".py",
   "mimetype": "text/x-python",
   "name": "python",
   "nbconvert_exporter": "python",
   "pygments_lexer": "ipython3",
   "version": "3.7.6-final"
  },
  "orig_nbformat": 2,
  "kernelspec": {
   "name": "python3",
   "display_name": "Python 3"
  }
 },
 "nbformat": 4,
 "nbformat_minor": 2
}